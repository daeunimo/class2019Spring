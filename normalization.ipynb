{
 "cells": [
  {
   "cell_type": "code",
   "execution_count": 1,
   "metadata": {
    "collapsed": true
   },
   "outputs": [],
   "source": [
    "import nltk"
   ]
  },
  {
   "cell_type": "code",
   "execution_count": 2,
   "metadata": {
    "collapsed": true
   },
   "outputs": [],
   "source": [
    "raw = \"\"\"DENNIS: Listen, strange women lying in ponds distributing swords\n",
    "... is no basis for a system of government.  Supreme executive power derives from\n",
    "... a mandate from the masses, not from some farcical aquatic ceremony.\"\"\""
   ]
  },
  {
   "cell_type": "code",
   "execution_count": 5,
   "metadata": {},
   "outputs": [],
   "source": [
    "post='The overwhelming influence of Korean pop music is finally grabbing mainstream attention. Billboard Music Award-winning group BTS made Time Magazine’s “25 Most Influential People on the Internet” list on Monday. The K-pop group has shown once again that the genre of music, famous for its flashy dance moves, is beloved the world over and will not be stopped. BTS, which is short for Bangtan Sonyeondan ― the name loosely translates to “Bulletproof Boy Scouts” ― recently spent 27 straight weeks at the top of Billboard’s Social 50 chart thanks to their fans.  “In 2016, the so-called BTS Army propelled ‘Wings’ to No. 26 on the Billboard 200 — the highest-ever debut for a K-pop album — and earlier this year, they helped BTS win Top Social Artist at the Billboard Music Awards,” Time notes. '"
   ]
  },
  {
   "cell_type": "markdown",
   "metadata": {},
   "source": [
    "## tokenize"
   ]
  },
  {
   "cell_type": "code",
   "execution_count": 8,
   "metadata": {},
   "outputs": [
    {
     "name": "stdout",
     "output_type": "stream",
     "text": [
      "['DENNIS', ':', 'Listen', ',', 'strange', 'women', 'lying', 'in', 'ponds', 'distributing', 'swords', 'is', 'no', 'basis', 'for', 'a', 'system', 'of', 'government', '.', 'Supreme', 'executive', 'power', 'derives', 'from', 'a', 'mandate', 'from', 'the', 'masses', ',', 'not', 'from', 'some', 'farcical', 'aquatic', 'ceremony', '.']\n"
     ]
    }
   ],
   "source": [
    "# tokenize\n",
    "tokens = nltk.word_tokenize(raw)\n",
    "print(tokens)"
   ]
  },
  {
   "cell_type": "code",
   "execution_count": 9,
   "metadata": {
    "scrolled": true
   },
   "outputs": [
    {
     "name": "stdout",
     "output_type": "stream",
     "text": [
      "['The', 'overwhelming', 'influence', 'of', 'Korean', 'pop', 'music', 'is', 'finally', 'grabbing', 'mainstream', 'attention', '.', 'Billboard', 'Music', 'Award-winning', 'group', 'BTS', 'made', 'Time', 'Magazine', '’', 's', '“', '25', 'Most', 'Influential', 'People', 'on', 'the', 'Internet', '”', 'list', 'on', 'Monday', '.', 'The', 'K-pop', 'group', 'has', 'shown', 'once', 'again', 'that', 'the', 'genre', 'of', 'music', ',', 'famous', 'for', 'its', 'flashy', 'dance', 'moves', ',', 'is', 'beloved', 'the', 'world', 'over', 'and', 'will', 'not', 'be', 'stopped', '.', 'BTS', ',', 'which', 'is', 'short', 'for', 'Bangtan', 'Sonyeondan', '―', 'the', 'name', 'loosely', 'translates', 'to', '“', 'Bulletproof', 'Boy', 'Scouts', '”', '―', 'recently', 'spent', '27', 'straight', 'weeks', 'at', 'the', 'top', 'of', 'Billboard', '’', 's', 'Social', '50', 'chart', 'thanks', 'to', 'their', 'fans', '.', '“', 'In', '2016', ',', 'the', 'so-called', 'BTS', 'Army', 'propelled', '‘', 'Wings', '’', 'to', 'No', '.', '26', 'on', 'the', 'Billboard', '200', '—', 'the', 'highest-ever', 'debut', 'for', 'a', 'K-pop', 'album', '—', 'and', 'earlier', 'this', 'year', ',', 'they', 'helped', 'BTS', 'win', 'Top', 'Social', 'Artist', 'at', 'the', 'Billboard', 'Music', 'Awards', ',', '”', 'Time', 'notes', '.']\n"
     ]
    }
   ],
   "source": [
    "post_tokens = nltk.word_tokenize(post)\n",
    "print(post_tokens)"
   ]
  },
  {
   "cell_type": "markdown",
   "metadata": {},
   "source": [
    "## stemming\n",
    "#### 단어들의 원형을 표현\n",
    "#### 어근 추출(접사 제거) 결과, 특정단어의 stem이 실제로 존재하지 않는 단어일 수 있음\n",
    "#### 단어 그 자체만을 고려함"
   ]
  },
  {
   "cell_type": "code",
   "execution_count": 11,
   "metadata": {},
   "outputs": [
    {
     "name": "stdout",
     "output_type": "stream",
     "text": [
      "<class 'nltk.stem.porter.PorterStemmer'>\n",
      "['denni', ':', 'listen', ',', 'strang', 'women', 'lie', 'in', 'pond', 'distribut', 'sword', 'is', 'no', 'basi', 'for', 'a', 'system', 'of', 'govern', '.', 'suprem', 'execut', 'power', 'deriv', 'from', 'a', 'mandat', 'from', 'the', 'mass', ',', 'not', 'from', 'some', 'farcic', 'aquat', 'ceremoni', '.']\n"
     ]
    }
   ],
   "source": [
    "# stemming \n",
    "porter = nltk.PorterStemmer() #인스턴스 생성\n",
    "print(type(porter))\n",
    "print([porter.stem(t) for t in tokens])"
   ]
  },
  {
   "cell_type": "code",
   "execution_count": 12,
   "metadata": {},
   "outputs": [
    {
     "name": "stdout",
     "output_type": "stream",
     "text": [
      "['the', 'overwhelm', 'influenc', 'of', 'korean', 'pop', 'music', 'is', 'final', 'grab', 'mainstream', 'attent', '.', 'billboard', 'music', 'award-win', 'group', 'bt', 'made', 'time', 'magazin', '’', 's', '“', '25', 'most', 'influenti', 'peopl', 'on', 'the', 'internet', '”', 'list', 'on', 'monday', '.', 'the', 'k-pop', 'group', 'ha', 'shown', 'onc', 'again', 'that', 'the', 'genr', 'of', 'music', ',', 'famou', 'for', 'it', 'flashi', 'danc', 'move', ',', 'is', 'belov', 'the', 'world', 'over', 'and', 'will', 'not', 'be', 'stop', '.', 'bt', ',', 'which', 'is', 'short', 'for', 'bangtan', 'sonyeondan', '―', 'the', 'name', 'loos', 'translat', 'to', '“', 'bulletproof', 'boy', 'scout', '”', '―', 'recent', 'spent', '27', 'straight', 'week', 'at', 'the', 'top', 'of', 'billboard', '’', 's', 'social', '50', 'chart', 'thank', 'to', 'their', 'fan', '.', '“', 'In', '2016', ',', 'the', 'so-cal', 'bt', 'armi', 'propel', '‘', 'wing', '’', 'to', 'No', '.', '26', 'on', 'the', 'billboard', '200', '—', 'the', 'highest-ev', 'debut', 'for', 'a', 'k-pop', 'album', '—', 'and', 'earlier', 'thi', 'year', ',', 'they', 'help', 'bt', 'win', 'top', 'social', 'artist', 'at', 'the', 'billboard', 'music', 'award', ',', '”', 'time', 'note', '.']\n"
     ]
    }
   ],
   "source": [
    "print([porter.stem(s) for s in post_tokens])"
   ]
  },
  {
   "cell_type": "code",
   "execution_count": 13,
   "metadata": {},
   "outputs": [
    {
     "name": "stdout",
     "output_type": "stream",
     "text": [
      "['den', ':', 'list', ',', 'strange', 'wom', 'lying', 'in', 'pond', 'distribut', 'sword', 'is', 'no', 'bas', 'for', 'a', 'system', 'of', 'govern', '.', 'suprem', 'execut', 'pow', 'der', 'from', 'a', 'mand', 'from', 'the', 'mass', ',', 'not', 'from', 'som', 'farc', 'aqu', 'ceremony', '.']\n"
     ]
    }
   ],
   "source": [
    "# stemming\n",
    "lancaster = nltk.LancasterStemmer() #porter와 비슷. 성능이 더 좋다고 알려짐.\n",
    "print([lancaster.stem(t) for t in tokens])"
   ]
  },
  {
   "cell_type": "code",
   "execution_count": 14,
   "metadata": {},
   "outputs": [
    {
     "name": "stdout",
     "output_type": "stream",
     "text": [
      "['the', 'overwhelm', 'influ', 'of', 'kor', 'pop', 'mus', 'is', 'fin', 'grab', 'mainstream', 'at', '.', 'billboard', 'mus', 'award-winning', 'group', 'bts', 'mad', 'tim', 'magazin', '’', 's', '“', '25', 'most', 'influ', 'peopl', 'on', 'the', 'internet', '”', 'list', 'on', 'monday', '.', 'the', 'k-pop', 'group', 'has', 'shown', 'ont', 'again', 'that', 'the', 'genr', 'of', 'mus', ',', 'fam', 'for', 'it', 'flashy', 'dant', 'mov', ',', 'is', 'belov', 'the', 'world', 'ov', 'and', 'wil', 'not', 'be', 'stop', '.', 'bts', ',', 'which', 'is', 'short', 'for', 'bangt', 'sonyeond', '―', 'the', 'nam', 'loos', 'transl', 'to', '“', 'bulletproof', 'boy', 'scout', '”', '―', 'rec', 'spent', '27', 'straight', 'week', 'at', 'the', 'top', 'of', 'billboard', '’', 's', 'soc', '50', 'chart', 'thank', 'to', 'their', 'fan', '.', '“', 'in', '2016', ',', 'the', 'so-called', 'bts', 'army', 'propel', '‘', 'wing', '’', 'to', 'no', '.', '26', 'on', 'the', 'billboard', '200', '—', 'the', 'highest-ever', 'debut', 'for', 'a', 'k-pop', 'alb', '—', 'and', 'ear', 'thi', 'year', ',', 'they', 'help', 'bts', 'win', 'top', 'soc', 'art', 'at', 'the', 'billboard', 'mus', 'award', ',', '”', 'tim', 'not', '.']\n"
     ]
    }
   ],
   "source": [
    "print([lancaster.stem(s) for s in post_tokens])"
   ]
  },
  {
   "cell_type": "markdown",
   "metadata": {},
   "source": [
    "## lemmatize\n",
    "#### 어근 추출 결과, 실제로 존재하는(사전에 등재되어 있는) 단어를 반환함\n",
    "#### 단어 자체뿐만 아니라, 품사 등까지 고려.\n",
    "#### stemming과 lemmatizing은 파생적 의미를 제거한다는 점에서는 비슷하지만,\n",
    "##### 후자가 단어의 형태소적, 사전적 분석을 통해 기본 사전형인 lemma를 제공한다는 점에서 다름"
   ]
  },
  {
   "cell_type": "code",
   "execution_count": 15,
   "metadata": {},
   "outputs": [
    {
     "name": "stdout",
     "output_type": "stream",
     "text": [
      "['DENNIS', ':', 'Listen', ',', 'strange', 'woman', 'lying', 'in', 'pond', 'distributing', 'sword', 'is', 'no', 'basis', 'for', 'a', 'system', 'of', 'government', '.', 'Supreme', 'executive', 'power', 'derives', 'from', 'a', 'mandate', 'from', 'the', 'mass', ',', 'not', 'from', 'some', 'farcical', 'aquatic', 'ceremony', '.']\n"
     ]
    }
   ],
   "source": [
    "wnl = nltk.WordNetLemmatizer()\n",
    "print([wnl.lemmatize(t) for t in tokens])"
   ]
  },
  {
   "cell_type": "code",
   "execution_count": 17,
   "metadata": {},
   "outputs": [
    {
     "name": "stdout",
     "output_type": "stream",
     "text": [
      "['The', 'overwhelming', 'influence', 'of', 'Korean', 'pop', 'music', 'is', 'finally', 'grabbing', 'mainstream', 'attention', '.', 'Billboard', 'Music', 'Award-winning', 'group', 'BTS', 'made', 'Time', 'Magazine', '’', 's', '“', '25', 'Most', 'Influential', 'People', 'on', 'the', 'Internet', '”', 'list', 'on', 'Monday', '.', 'The', 'K-pop', 'group', 'ha', 'shown', 'once', 'again', 'that', 'the', 'genre', 'of', 'music', ',', 'famous', 'for', 'it', 'flashy', 'dance', 'move', ',', 'is', 'beloved', 'the', 'world', 'over', 'and', 'will', 'not', 'be', 'stopped', '.', 'BTS', ',', 'which', 'is', 'short', 'for', 'Bangtan', 'Sonyeondan', '―', 'the', 'name', 'loosely', 'translates', 'to', '“', 'Bulletproof', 'Boy', 'Scouts', '”', '―', 'recently', 'spent', '27', 'straight', 'week', 'at', 'the', 'top', 'of', 'Billboard', '’', 's', 'Social', '50', 'chart', 'thanks', 'to', 'their', 'fan', '.', '“', 'In', '2016', ',', 'the', 'so-called', 'BTS', 'Army', 'propelled', '‘', 'Wings', '’', 'to', 'No', '.', '26', 'on', 'the', 'Billboard', '200', '—', 'the', 'highest-ever', 'debut', 'for', 'a', 'K-pop', 'album', '—', 'and', 'earlier', 'this', 'year', ',', 'they', 'helped', 'BTS', 'win', 'Top', 'Social', 'Artist', 'at', 'the', 'Billboard', 'Music', 'Awards', ',', '”', 'Time', 'note', '.']\n"
     ]
    }
   ],
   "source": [
    "print([wnl.lemmatize(s) for s in post_tokens])"
   ]
  },
  {
   "cell_type": "code",
   "execution_count": null,
   "metadata": {
    "collapsed": true
   },
   "outputs": [],
   "source": []
  }
 ],
 "metadata": {
  "kernelspec": {
   "display_name": "Python 3",
   "language": "python",
   "name": "python3"
  },
  "language_info": {
   "codemirror_mode": {
    "name": "ipython",
    "version": 3
   },
   "file_extension": ".py",
   "mimetype": "text/x-python",
   "name": "python",
   "nbconvert_exporter": "python",
   "pygments_lexer": "ipython3",
   "version": "3.6.2"
  }
 },
 "nbformat": 4,
 "nbformat_minor": 2
}
